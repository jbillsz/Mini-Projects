{
 "cells": [
  {
   "cell_type": "code",
   "execution_count": 262,
   "id": "8e4024ec",
   "metadata": {},
   "outputs": [],
   "source": [
    "import numpy as np\n",
    "import pandas as pd\n",
    "import matplotlib.pyplot as plt"
   ]
  },
  {
   "cell_type": "markdown",
   "id": "7fd99fa2",
   "metadata": {},
   "source": [
    "# Building an item of features\n",
    "\n",
    "The problem requires me to create a array for 4 users and their ratings as features, $X_1$ and $X_2$ as further features to indicate the type of movie. $X_1$ being a romantic movie and $X_2$ being the action type"
   ]
  },
  {
   "cell_type": "code",
   "execution_count": 263,
   "id": "80451c6c",
   "metadata": {},
   "outputs": [
    {
     "data": {
      "text/plain": [
       "(5, 6)"
      ]
     },
     "execution_count": 263,
     "metadata": {},
     "output_type": "execute_result"
    }
   ],
   "source": [
    "a=np.array([[5,5,0,0,0.9,0],\n",
    "          [5,np.nan,np.nan,0,1.0,0],\n",
    "          [np.nan,4,0,np.nan,0.99,0],\n",
    "          [0,0,5,4,0.1,1],\n",
    "          [0,0,5,np.nan,0,0.9]])\n",
    "a.shape"
   ]
  },
  {
   "cell_type": "code",
   "execution_count": 264,
   "id": "5247b274",
   "metadata": {},
   "outputs": [],
   "source": [
    "names=[\"Alice\",\"Bob\",\"Carol\",\"Dave\",\"$x_1$\",\"$x_2$\"]\n",
    "index=[\"Love at Last\",\"Romance Forever\",\"Cute Puppies\",\"Non-stop\",\"Swords and Karate\"]"
   ]
  },
  {
   "cell_type": "code",
   "execution_count": 265,
   "id": "e4f4244d",
   "metadata": {},
   "outputs": [],
   "source": [
    "df=pd.DataFrame(a,columns=names, index=index) #creating a data frame with column names and index names"
   ]
  },
  {
   "cell_type": "code",
   "execution_count": 266,
   "id": "5247c6fa",
   "metadata": {},
   "outputs": [],
   "source": [
    "df.index.rename('Movies',inplace=True) #renaming the index"
   ]
  },
  {
   "cell_type": "code",
   "execution_count": 267,
   "id": "911467b4",
   "metadata": {
    "scrolled": true
   },
   "outputs": [
    {
     "data": {
      "text/html": [
       "<div>\n",
       "<style scoped>\n",
       "    .dataframe tbody tr th:only-of-type {\n",
       "        vertical-align: middle;\n",
       "    }\n",
       "\n",
       "    .dataframe tbody tr th {\n",
       "        vertical-align: top;\n",
       "    }\n",
       "\n",
       "    .dataframe thead th {\n",
       "        text-align: right;\n",
       "    }\n",
       "</style>\n",
       "<table border=\"1\" class=\"dataframe\">\n",
       "  <thead>\n",
       "    <tr style=\"text-align: right;\">\n",
       "      <th></th>\n",
       "      <th>Alice</th>\n",
       "      <th>Bob</th>\n",
       "      <th>Carol</th>\n",
       "      <th>Dave</th>\n",
       "      <th>$x_1$</th>\n",
       "      <th>$x_2$</th>\n",
       "    </tr>\n",
       "    <tr>\n",
       "      <th>Movies</th>\n",
       "      <th></th>\n",
       "      <th></th>\n",
       "      <th></th>\n",
       "      <th></th>\n",
       "      <th></th>\n",
       "      <th></th>\n",
       "    </tr>\n",
       "  </thead>\n",
       "  <tbody>\n",
       "    <tr>\n",
       "      <th>Love at Last</th>\n",
       "      <td>5.0</td>\n",
       "      <td>5.0</td>\n",
       "      <td>0.0</td>\n",
       "      <td>0.0</td>\n",
       "      <td>0.90</td>\n",
       "      <td>0.0</td>\n",
       "    </tr>\n",
       "    <tr>\n",
       "      <th>Romance Forever</th>\n",
       "      <td>5.0</td>\n",
       "      <td>NaN</td>\n",
       "      <td>NaN</td>\n",
       "      <td>0.0</td>\n",
       "      <td>1.00</td>\n",
       "      <td>0.0</td>\n",
       "    </tr>\n",
       "    <tr>\n",
       "      <th>Cute Puppies</th>\n",
       "      <td>NaN</td>\n",
       "      <td>4.0</td>\n",
       "      <td>0.0</td>\n",
       "      <td>NaN</td>\n",
       "      <td>0.99</td>\n",
       "      <td>0.0</td>\n",
       "    </tr>\n",
       "    <tr>\n",
       "      <th>Non-stop</th>\n",
       "      <td>0.0</td>\n",
       "      <td>0.0</td>\n",
       "      <td>5.0</td>\n",
       "      <td>4.0</td>\n",
       "      <td>0.10</td>\n",
       "      <td>1.0</td>\n",
       "    </tr>\n",
       "    <tr>\n",
       "      <th>Swords and Karate</th>\n",
       "      <td>0.0</td>\n",
       "      <td>0.0</td>\n",
       "      <td>5.0</td>\n",
       "      <td>NaN</td>\n",
       "      <td>0.00</td>\n",
       "      <td>0.9</td>\n",
       "    </tr>\n",
       "  </tbody>\n",
       "</table>\n",
       "</div>"
      ],
      "text/plain": [
       "                   Alice  Bob  Carol  Dave  $x_1$  $x_2$\n",
       "Movies                                                  \n",
       "Love at Last         5.0  5.0    0.0   0.0   0.90    0.0\n",
       "Romance Forever      5.0  NaN    NaN   0.0   1.00    0.0\n",
       "Cute Puppies         NaN  4.0    0.0   NaN   0.99    0.0\n",
       "Non-stop             0.0  0.0    5.0   4.0   0.10    1.0\n",
       "Swords and Karate    0.0  0.0    5.0   NaN   0.00    0.9"
      ]
     },
     "execution_count": 267,
     "metadata": {},
     "output_type": "execute_result"
    }
   ],
   "source": [
    "df"
   ]
  },
  {
   "cell_type": "code",
   "execution_count": 268,
   "id": "395d3460",
   "metadata": {},
   "outputs": [
    {
     "data": {
      "text/plain": [
       "Alice    NaN\n",
       "Bob      4.0\n",
       "Carol    0.0\n",
       "Dave     NaN\n",
       "Name: Cute Puppies, dtype: float64"
      ]
     },
     "execution_count": 268,
     "metadata": {},
     "output_type": "execute_result"
    }
   ],
   "source": [
    "df.iloc[2,:4] #exploring my data in my own way"
   ]
  },
  {
   "cell_type": "markdown",
   "id": "96c65410",
   "metadata": {},
   "source": [
    "# Lets check the user ratings for each person given the type of movie\n",
    "Each movie rating and their set will be represent with the array $y_{ij}$ but in this case I am checking if the movie has been rated first before looking at the ratings. The array will be represented by r and if rated will be 1 and if not will be zero."
   ]
  },
  {
   "cell_type": "code",
   "execution_count": 269,
   "id": "f6dedbb2",
   "metadata": {},
   "outputs": [
    {
     "data": {
      "text/html": [
       "<div>\n",
       "<style scoped>\n",
       "    .dataframe tbody tr th:only-of-type {\n",
       "        vertical-align: middle;\n",
       "    }\n",
       "\n",
       "    .dataframe tbody tr th {\n",
       "        vertical-align: top;\n",
       "    }\n",
       "\n",
       "    .dataframe thead th {\n",
       "        text-align: right;\n",
       "    }\n",
       "</style>\n",
       "<table border=\"1\" class=\"dataframe\">\n",
       "  <thead>\n",
       "    <tr style=\"text-align: right;\">\n",
       "      <th></th>\n",
       "      <th>Alice</th>\n",
       "      <th>Bob</th>\n",
       "      <th>Carol</th>\n",
       "      <th>Dave</th>\n",
       "      <th>$x_1$</th>\n",
       "      <th>$x_2$</th>\n",
       "    </tr>\n",
       "    <tr>\n",
       "      <th>Movies</th>\n",
       "      <th></th>\n",
       "      <th></th>\n",
       "      <th></th>\n",
       "      <th></th>\n",
       "      <th></th>\n",
       "      <th></th>\n",
       "    </tr>\n",
       "  </thead>\n",
       "  <tbody>\n",
       "    <tr>\n",
       "      <th>Love at Last</th>\n",
       "      <td>False</td>\n",
       "      <td>False</td>\n",
       "      <td>False</td>\n",
       "      <td>False</td>\n",
       "      <td>False</td>\n",
       "      <td>False</td>\n",
       "    </tr>\n",
       "    <tr>\n",
       "      <th>Romance Forever</th>\n",
       "      <td>False</td>\n",
       "      <td>True</td>\n",
       "      <td>True</td>\n",
       "      <td>False</td>\n",
       "      <td>False</td>\n",
       "      <td>False</td>\n",
       "    </tr>\n",
       "    <tr>\n",
       "      <th>Cute Puppies</th>\n",
       "      <td>True</td>\n",
       "      <td>False</td>\n",
       "      <td>False</td>\n",
       "      <td>True</td>\n",
       "      <td>False</td>\n",
       "      <td>False</td>\n",
       "    </tr>\n",
       "    <tr>\n",
       "      <th>Non-stop</th>\n",
       "      <td>False</td>\n",
       "      <td>False</td>\n",
       "      <td>False</td>\n",
       "      <td>False</td>\n",
       "      <td>False</td>\n",
       "      <td>False</td>\n",
       "    </tr>\n",
       "    <tr>\n",
       "      <th>Swords and Karate</th>\n",
       "      <td>False</td>\n",
       "      <td>False</td>\n",
       "      <td>False</td>\n",
       "      <td>True</td>\n",
       "      <td>False</td>\n",
       "      <td>False</td>\n",
       "    </tr>\n",
       "  </tbody>\n",
       "</table>\n",
       "</div>"
      ],
      "text/plain": [
       "                   Alice    Bob  Carol   Dave  $x_1$  $x_2$\n",
       "Movies                                                     \n",
       "Love at Last       False  False  False  False  False  False\n",
       "Romance Forever    False   True   True  False  False  False\n",
       "Cute Puppies        True  False  False   True  False  False\n",
       "Non-stop           False  False  False  False  False  False\n",
       "Swords and Karate  False  False  False   True  False  False"
      ]
     },
     "execution_count": 269,
     "metadata": {},
     "output_type": "execute_result"
    }
   ],
   "source": [
    "np.isnan(df) #searching for nan values"
   ]
  },
  {
   "cell_type": "markdown",
   "id": "00e3b89b",
   "metadata": {},
   "source": [
    "# Now I will check the rating each user gave to a movie "
   ]
  },
  {
   "cell_type": "code",
   "execution_count": 287,
   "id": "e44841cb",
   "metadata": {},
   "outputs": [],
   "source": [
    "y=[]\n",
    "y.append(np.array(df.iloc[:,:3]))"
   ]
  },
  {
   "cell_type": "code",
   "execution_count": 288,
   "id": "e259c77e",
   "metadata": {},
   "outputs": [
    {
     "data": {
      "text/plain": [
       "array([[[ 5.,  5.,  0.],\n",
       "        [ 5., nan, nan],\n",
       "        [nan,  4.,  0.],\n",
       "        [ 0.,  0.,  5.],\n",
       "        [ 0.,  0.,  5.]]])"
      ]
     },
     "execution_count": 288,
     "metadata": {},
     "output_type": "execute_result"
    }
   ],
   "source": [
    "y=np.array(y)\n",
    "y"
   ]
  },
  {
   "cell_type": "code",
   "execution_count": 289,
   "id": "56762754",
   "metadata": {},
   "outputs": [],
   "source": [
    "ratings=[]\n",
    "for i in range(y.shape[0]):\n",
    "    ratings.append(y[i][~np.isnan(y[i])])\n"
   ]
  },
  {
   "cell_type": "code",
   "execution_count": 293,
   "id": "48b9f58b",
   "metadata": {},
   "outputs": [
    {
     "data": {
      "text/plain": [
       "(1, 5, 3)"
      ]
     },
     "execution_count": 293,
     "metadata": {},
     "output_type": "execute_result"
    }
   ],
   "source": [
    "y.shape"
   ]
  },
  {
   "cell_type": "code",
   "execution_count": 322,
   "id": "9826e16f",
   "metadata": {},
   "outputs": [
    {
     "data": {
      "text/plain": [
       "array([[[ 5.,  5.,  0.],\n",
       "        [ 5., nan, nan],\n",
       "        [nan,  4.,  0.],\n",
       "        [ 0.,  0.,  5.],\n",
       "        [ 0.,  0.,  5.]]])"
      ]
     },
     "execution_count": 322,
     "metadata": {},
     "output_type": "execute_result"
    }
   ],
   "source": [
    "y# calling out y to see the array before I carry the next steps"
   ]
  },
  {
   "cell_type": "code",
   "execution_count": 307,
   "id": "081f4ef0",
   "metadata": {},
   "outputs": [
    {
     "data": {
      "text/plain": [
       "array([5.])"
      ]
     },
     "execution_count": 307,
     "metadata": {},
     "output_type": "execute_result"
    }
   ],
   "source": [
    "y[0:,0,0]"
   ]
  },
  {
   "cell_type": "code",
   "execution_count": 323,
   "id": "55c3808f",
   "metadata": {},
   "outputs": [
    {
     "data": {
      "text/plain": [
       "array([4.5, 0. ])"
      ]
     },
     "execution_count": 323,
     "metadata": {},
     "output_type": "execute_result"
    }
   ],
   "source": [
    "np.dot(x[0].reshape(-1,1),y[0:,0,0]) # using the reshape and dot product to create a di=ot product between a matrix and an\n",
    "#array"
   ]
  },
  {
   "cell_type": "code",
   "execution_count": 320,
   "id": "fd9bc13b",
   "metadata": {},
   "outputs": [
    {
     "data": {
      "text/plain": [
       "(5, 2)"
      ]
     },
     "execution_count": 320,
     "metadata": {},
     "output_type": "execute_result"
    }
   ],
   "source": [
    "x.shape"
   ]
  },
  {
   "cell_type": "markdown",
   "id": "a85a1d79",
   "metadata": {},
   "source": [
    "# Dealing with the predictions "
   ]
  },
  {
   "cell_type": "code",
   "execution_count": 291,
   "id": "9df6c6b9",
   "metadata": {},
   "outputs": [
    {
     "data": {
      "text/plain": [
       "(5, 6)"
      ]
     },
     "execution_count": 291,
     "metadata": {},
     "output_type": "execute_result"
    }
   ],
   "source": [
    "a.shape"
   ]
  },
  {
   "cell_type": "code",
   "execution_count": 292,
   "id": "41eeb647",
   "metadata": {},
   "outputs": [
    {
     "data": {
      "text/plain": [
       "Movies\n",
       "Love at Last         5.0\n",
       "Romance Forever      5.0\n",
       "Cute Puppies         NaN\n",
       "Non-stop             0.0\n",
       "Swords and Karate    0.0\n",
       "Name: Alice, dtype: float64"
      ]
     },
     "execution_count": 292,
     "metadata": {},
     "output_type": "execute_result"
    }
   ],
   "source": [
    "y1"
   ]
  },
  {
   "cell_type": "code",
   "execution_count": 276,
   "id": "4999cef7",
   "metadata": {},
   "outputs": [
    {
     "data": {
      "text/plain": [
       "(5, 2)"
      ]
     },
     "execution_count": 276,
     "metadata": {},
     "output_type": "execute_result"
    }
   ],
   "source": [
    "predict_alice=[]\n",
    "\n",
    "x=np.array([[0.9 , 0.  ],\n",
    "       [1.  , 0.  ],\n",
    "       [0.99, 0.  ],\n",
    "       [0.1 , 1.  ],\n",
    "       [0.  , 0.9 ]])\n",
    "x.shape"
   ]
  },
  {
   "cell_type": "markdown",
   "id": "3c1ae8ae",
   "metadata": {},
   "source": [
    "# Testing the Predictions with Alice as $y_1$"
   ]
  },
  {
   "cell_type": "code",
   "execution_count": 277,
   "id": "d85ef496",
   "metadata": {},
   "outputs": [
    {
     "data": {
      "text/plain": [
       "array([4.5, 0. ])"
      ]
     },
     "execution_count": 277,
     "metadata": {},
     "output_type": "execute_result"
    }
   ],
   "source": [
    "np.dot(y1[0],x[0])"
   ]
  },
  {
   "cell_type": "code",
   "execution_count": 278,
   "id": "2161b6ca",
   "metadata": {},
   "outputs": [
    {
     "data": {
      "text/plain": [
       "array([5., 0.])"
      ]
     },
     "execution_count": 278,
     "metadata": {},
     "output_type": "execute_result"
    }
   ],
   "source": [
    "np.dot(y1[1],x[1])+0"
   ]
  },
  {
   "cell_type": "code",
   "execution_count": 279,
   "id": "ce255126",
   "metadata": {},
   "outputs": [
    {
     "data": {
      "text/plain": [
       "5.0"
      ]
     },
     "execution_count": 279,
     "metadata": {},
     "output_type": "execute_result"
    }
   ],
   "source": [
    "y1.iloc[0]"
   ]
  },
  {
   "cell_type": "markdown",
   "id": "3813ed4e",
   "metadata": {},
   "source": [
    "# Now it is time for Automation. And error calculation\n",
    "# Will be back"
   ]
  }
 ],
 "metadata": {
  "kernelspec": {
   "display_name": "Python 3 (ipykernel)",
   "language": "python",
   "name": "python3"
  },
  "language_info": {
   "codemirror_mode": {
    "name": "ipython",
    "version": 3
   },
   "file_extension": ".py",
   "mimetype": "text/x-python",
   "name": "python",
   "nbconvert_exporter": "python",
   "pygments_lexer": "ipython3",
   "version": "3.9.12"
  }
 },
 "nbformat": 4,
 "nbformat_minor": 5
}
